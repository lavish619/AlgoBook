{
 "metadata": {
  "language_info": {
   "codemirror_mode": {
    "name": "ipython",
    "version": 3
   },
   "file_extension": ".py",
   "mimetype": "text/x-python",
   "name": "python",
   "nbconvert_exporter": "python",
   "pygments_lexer": "ipython3",
   "version": "3.8.5-final"
  },
  "orig_nbformat": 2,
  "kernelspec": {
   "name": "Python 3.8.5 64-bit",
   "display_name": "Python 3.8.5 64-bit",
   "metadata": {
    "interpreter": {
     "hash": "767d51c1340bd893661ea55ea3124f6de3c7a262a8b4abca0554b478b1e2ff90"
    }
   }
  }
 },
 "nbformat": 4,
 "nbformat_minor": 2,
 "cells": [
  {
   "source": [
    "# Market Basket Analysis using Apriori Algorithm"
   ],
   "cell_type": "markdown",
   "metadata": {}
  },
  {
   "cell_type": "code",
   "execution_count": 2,
   "metadata": {
    "tags": []
   },
   "outputs": [],
   "source": [
    "import numpy as np \n",
    "import pandas as pd\n",
    "import matplotlib.pyplot as plt\n",
    "from apyori import apriori"
   ]
  },
  {
   "cell_type": "code",
   "execution_count": 3,
   "metadata": {},
   "outputs": [],
   "source": [
    "transaction_data = pd.read_csv('data.csv')"
   ]
  },
  {
   "cell_type": "code",
   "execution_count": 4,
   "metadata": {},
   "outputs": [
    {
     "output_type": "execute_result",
     "data": {
      "text/plain": "           shrimp    almonds     avocado    vegetables mix green grapes  \\\n0         burgers  meatballs        eggs               NaN          NaN   \n1         chutney        NaN         NaN               NaN          NaN   \n2          turkey    avocado         NaN               NaN          NaN   \n3   mineral water       milk  energy bar  whole wheat rice    green tea   \n4  low fat yogurt        NaN         NaN               NaN          NaN   \n\n  whole weat flour yams cottage cheese energy drink tomato juice  \\\n0              NaN  NaN            NaN          NaN          NaN   \n1              NaN  NaN            NaN          NaN          NaN   \n2              NaN  NaN            NaN          NaN          NaN   \n3              NaN  NaN            NaN          NaN          NaN   \n4              NaN  NaN            NaN          NaN          NaN   \n\n  low fat yogurt green tea honey salad mineral water salmon antioxydant juice  \\\n0            NaN       NaN   NaN   NaN           NaN    NaN               NaN   \n1            NaN       NaN   NaN   NaN           NaN    NaN               NaN   \n2            NaN       NaN   NaN   NaN           NaN    NaN               NaN   \n3            NaN       NaN   NaN   NaN           NaN    NaN               NaN   \n4            NaN       NaN   NaN   NaN           NaN    NaN               NaN   \n\n  frozen smoothie spinach  olive oil  \n0             NaN     NaN        NaN  \n1             NaN     NaN        NaN  \n2             NaN     NaN        NaN  \n3             NaN     NaN        NaN  \n4             NaN     NaN        NaN  ",
      "text/html": "<div>\n<style scoped>\n    .dataframe tbody tr th:only-of-type {\n        vertical-align: middle;\n    }\n\n    .dataframe tbody tr th {\n        vertical-align: top;\n    }\n\n    .dataframe thead th {\n        text-align: right;\n    }\n</style>\n<table border=\"1\" class=\"dataframe\">\n  <thead>\n    <tr style=\"text-align: right;\">\n      <th></th>\n      <th>shrimp</th>\n      <th>almonds</th>\n      <th>avocado</th>\n      <th>vegetables mix</th>\n      <th>green grapes</th>\n      <th>whole weat flour</th>\n      <th>yams</th>\n      <th>cottage cheese</th>\n      <th>energy drink</th>\n      <th>tomato juice</th>\n      <th>low fat yogurt</th>\n      <th>green tea</th>\n      <th>honey</th>\n      <th>salad</th>\n      <th>mineral water</th>\n      <th>salmon</th>\n      <th>antioxydant juice</th>\n      <th>frozen smoothie</th>\n      <th>spinach</th>\n      <th>olive oil</th>\n    </tr>\n  </thead>\n  <tbody>\n    <tr>\n      <th>0</th>\n      <td>burgers</td>\n      <td>meatballs</td>\n      <td>eggs</td>\n      <td>NaN</td>\n      <td>NaN</td>\n      <td>NaN</td>\n      <td>NaN</td>\n      <td>NaN</td>\n      <td>NaN</td>\n      <td>NaN</td>\n      <td>NaN</td>\n      <td>NaN</td>\n      <td>NaN</td>\n      <td>NaN</td>\n      <td>NaN</td>\n      <td>NaN</td>\n      <td>NaN</td>\n      <td>NaN</td>\n      <td>NaN</td>\n      <td>NaN</td>\n    </tr>\n    <tr>\n      <th>1</th>\n      <td>chutney</td>\n      <td>NaN</td>\n      <td>NaN</td>\n      <td>NaN</td>\n      <td>NaN</td>\n      <td>NaN</td>\n      <td>NaN</td>\n      <td>NaN</td>\n      <td>NaN</td>\n      <td>NaN</td>\n      <td>NaN</td>\n      <td>NaN</td>\n      <td>NaN</td>\n      <td>NaN</td>\n      <td>NaN</td>\n      <td>NaN</td>\n      <td>NaN</td>\n      <td>NaN</td>\n      <td>NaN</td>\n      <td>NaN</td>\n    </tr>\n    <tr>\n      <th>2</th>\n      <td>turkey</td>\n      <td>avocado</td>\n      <td>NaN</td>\n      <td>NaN</td>\n      <td>NaN</td>\n      <td>NaN</td>\n      <td>NaN</td>\n      <td>NaN</td>\n      <td>NaN</td>\n      <td>NaN</td>\n      <td>NaN</td>\n      <td>NaN</td>\n      <td>NaN</td>\n      <td>NaN</td>\n      <td>NaN</td>\n      <td>NaN</td>\n      <td>NaN</td>\n      <td>NaN</td>\n      <td>NaN</td>\n      <td>NaN</td>\n    </tr>\n    <tr>\n      <th>3</th>\n      <td>mineral water</td>\n      <td>milk</td>\n      <td>energy bar</td>\n      <td>whole wheat rice</td>\n      <td>green tea</td>\n      <td>NaN</td>\n      <td>NaN</td>\n      <td>NaN</td>\n      <td>NaN</td>\n      <td>NaN</td>\n      <td>NaN</td>\n      <td>NaN</td>\n      <td>NaN</td>\n      <td>NaN</td>\n      <td>NaN</td>\n      <td>NaN</td>\n      <td>NaN</td>\n      <td>NaN</td>\n      <td>NaN</td>\n      <td>NaN</td>\n    </tr>\n    <tr>\n      <th>4</th>\n      <td>low fat yogurt</td>\n      <td>NaN</td>\n      <td>NaN</td>\n      <td>NaN</td>\n      <td>NaN</td>\n      <td>NaN</td>\n      <td>NaN</td>\n      <td>NaN</td>\n      <td>NaN</td>\n      <td>NaN</td>\n      <td>NaN</td>\n      <td>NaN</td>\n      <td>NaN</td>\n      <td>NaN</td>\n      <td>NaN</td>\n      <td>NaN</td>\n      <td>NaN</td>\n      <td>NaN</td>\n      <td>NaN</td>\n      <td>NaN</td>\n    </tr>\n  </tbody>\n</table>\n</div>"
     },
     "metadata": {},
     "execution_count": 4
    }
   ],
   "source": [
    "transaction_data.head()"
   ]
  },
  {
   "cell_type": "code",
   "execution_count": 5,
   "metadata": {},
   "outputs": [
    {
     "output_type": "execute_result",
     "data": {
      "text/plain": "(7500, 20)"
     },
     "metadata": {},
     "execution_count": 5
    }
   ],
   "source": [
    "transaction_data.shape"
   ]
  },
  {
   "cell_type": "code",
   "execution_count": 11,
   "metadata": {},
   "outputs": [],
   "source": [
    "records = []  \n",
    "for i in range(0, 7500):  \n",
    "    records.append([str(transaction_data.values[i,j]) for j in range(0, 20)])"
   ]
  },
  {
   "cell_type": "code",
   "execution_count": 12,
   "metadata": {},
   "outputs": [],
   "source": [
    "association_rules = apriori(records, min_support=0.0056, min_confidence=0.2, min_lift=1.2, max_length=3)  \n",
    "association_results = list(association_rules) "
   ]
  },
  {
   "cell_type": "code",
   "execution_count": 13,
   "metadata": {},
   "outputs": [
    {
     "output_type": "execute_result",
     "data": {
      "text/plain": "RelationRecord(items=frozenset({&#39;almonds&#39;, &#39;chocolate&#39;}), support=0.006, ordered_statistics=[OrderedStatistic(items_base=frozenset({&#39;almonds&#39;}), items_add=frozenset({&#39;chocolate&#39;}), confidence=0.2960526315789474, lift=1.8066678086591583)])"
     },
     "metadata": {},
     "execution_count": 13
    }
   ],
   "source": [
    "association_results[0]"
   ]
  },
  {
   "cell_type": "code",
   "execution_count": 14,
   "metadata": {
    "tags": [
     "outputPrepend"
    ]
   },
   "outputs": [
    {
     "output_type": "stream",
     "name": "stdout",
     "text": "l water&#39;]\nSupport: 0.006666666666666667\nConfidence: 0.47169811320754723\nLift: 1.9797066866573052\n=====================================\nRule: ground beef is bought when -&gt; pancakesis bought [&#39;pancakes&#39;, &#39;ground beef&#39;, &#39;mineral water&#39;]\nSupport: 0.007466666666666667\nConfidence: 0.5137614678899083\nLift: 2.1562456682564703\n=====================================\nRule: ground beef is bought when -&gt; spaghettiis bought [&#39;spaghetti&#39;, &#39;ground beef&#39;, &#39;mineral water&#39;]\nSupport: 0.017066666666666667\nConfidence: 0.4169381107491857\nLift: 2.3943612791875135\n=====================================\nRule: ground beef is bought when -&gt; olive oilis bought [&#39;olive oil&#39;, &#39;ground beef&#39;, &#39;nan&#39;]\nSupport: 0.014133333333333333\nConfidence: 0.21501014198782958\nLift: 2.1880272251135984\n=====================================\nRule: ground beef is bought when -&gt; pepperis bought [&#39;pepper&#39;, &#39;ground beef&#39;, &#39;nan&#39;]\nSupport: 0.006533333333333334\nConfidence: 0.24623115577889448\nLift: 2.505744461793363\n=====================================\nRule: ground beef is bought when -&gt; salmonis bought [&#39;salmon&#39;, &#39;ground beef&#39;, &#39;nan&#39;]\nSupport: 0.008933333333333333\nConfidence: 0.21069182389937105\nLift: 2.144082332761578\n=====================================\nRule: ground beef is bought when -&gt; spaghettiis bought [&#39;spaghetti&#39;, &#39;ground beef&#39;, &#39;nan&#39;]\nSupport: 0.0392\nConfidence: 0.39891451831750335\nLift: 2.2908567284695827\n=====================================\nRule: ground beef is bought when -&gt; olive oilis bought [&#39;olive oil&#39;, &#39;ground beef&#39;, &#39;spaghetti&#39;]\nSupport: 0.0061333333333333335\nConfidence: 0.4339622641509434\nLift: 2.492126325522263\n=====================================\nRule: ground beef is bought when -&gt; pancakesis bought [&#39;pancakes&#39;, &#39;ground beef&#39;, &#39;spaghetti&#39;]\nSupport: 0.0064\nConfidence: 0.44036697247706424\nLift: 2.5289068097840595\n=====================================\nRule: ground beef is bought when -&gt; shrimpis bought [&#39;shrimp&#39;, &#39;ground beef&#39;, &#39;spaghetti&#39;]\nSupport: 0.006\nConfidence: 0.5232558139534884\nLift: 3.004914704939635\n=====================================\nRule: ground beef is bought when -&gt; tomatoesis bought [&#39;tomatoes&#39;, &#39;ground beef&#39;, &#39;spaghetti&#39;]\nSupport: 0.0056\nConfidence: 0.47727272727272724\nLift: 2.7408464429903936\n=====================================\nRule: ham is bought when -&gt; nanis bought [&#39;nan&#39;, &#39;ham&#39;, &#39;mineral water&#39;]\nSupport: 0.0092\nConfidence: 0.34673366834170855\nLift: 1.455233638815229\n=====================================\nRule: spaghetti is bought when -&gt; hamis bought [&#39;ham&#39;, &#39;spaghetti&#39;, &#39;nan&#39;]\nSupport: 0.0092\nConfidence: 0.34673366834170855\nLift: 1.9911964108444211\n=====================================\nRule: herb &amp; pepper is bought when -&gt; nanis bought [&#39;nan&#39;, &#39;herb &amp; pepper&#39;, &#39;mineral water&#39;]\nSupport: 0.017066666666666667\nConfidence: 0.3450134770889488\nLift: 1.4480140336693432\n=====================================\nRule: herb &amp; pepper is bought when -&gt; spaghettiis bought [&#39;spaghetti&#39;, &#39;herb &amp; pepper&#39;, &#39;mineral water&#39;]\nSupport: 0.006\nConfidence: 0.3515625\nLift: 2.018927067381317\n=====================================\nRule: herb &amp; pepper is bought when -&gt; spaghettiis bought [&#39;spaghetti&#39;, &#39;herb &amp; pepper&#39;, &#39;nan&#39;]\nSupport: 0.016266666666666665\nConfidence: 0.32884097035040427\nLift: 1.8884435510168698\n=====================================\nRule: honey is bought when -&gt; nanis bought [&#39;nan&#39;, &#39;honey&#39;, &#39;mineral water&#39;]\nSupport: 0.014933333333333333\nConfidence: 0.3154929577464789\nLift: 1.324117058253269\n=====================================\nRule: honey is bought when -&gt; spaghettiis bought [&#39;spaghetti&#39;, &#39;honey&#39;, &#39;nan&#39;]\nSupport: 0.011866666666666666\nConfidence: 0.2507042253521127\nLift: 1.4397256432931431\n=====================================\nRule: spaghetti is bought when -&gt; hot dogsis bought [&#39;hot dogs&#39;, &#39;spaghetti&#39;, &#39;nan&#39;]\nSupport: 0.008666666666666666\nConfidence: 0.2674897119341564\nLift: 1.5361200915054922\n=====================================\nRule: light cream is bought when -&gt; nanis bought [&#39;nan&#39;, &#39;light cream&#39;, &#39;mineral water&#39;]\nSupport: 0.007333333333333333\nConfidence: 0.4700854700854701\nLift: 1.9729384586687329\n=====================================\nRule: low fat yogurt is bought when -&gt; nanis bought [&#39;nan&#39;, &#39;low fat yogurt&#39;, &#39;mineral water&#39;]\nSupport: 0.023866666666666668\nConfidence: 0.31239092495637\nLift: 1.3110978943328344\n=====================================\nRule: low fat yogurt is bought when -&gt; spaghettiis bought [&#39;spaghetti&#39;, &#39;low fat yogurt&#39;, &#39;mineral water&#39;]\nSupport: 0.0056\nConfidence: 0.23463687150837986\nLift: 1.3474552345427633\n=====================================\nRule: nan is bought when -&gt; mineral wateris bought [&#39;mineral water&#39;, &#39;nan&#39;, &#39;meatballs&#39;]\nSupport: 0.007733333333333333\nConfidence: 0.36942675159235666\nLift: 1.5504760139578484\n=====================================\nRule: spaghetti is bought when -&gt; nanis bought [&#39;nan&#39;, &#39;spaghetti&#39;, &#39;meatballs&#39;]\nSupport: 0.0064\nConfidence: 0.3057324840764331\nLift: 1.7557378488309712\n=====================================\nRule: milk is bought when -&gt; nanis bought [&#39;nan&#39;, &#39;milk&#39;, &#39;mineral water&#39;]\nSupport: 0.048\nConfidence: 0.3703703703703704\nLift: 1.5544363613753656\n=====================================\nRule: milk is bought when -&gt; olive oilis bought [&#39;olive oil&#39;, &#39;milk&#39;, &#39;mineral water&#39;]\nSupport: 0.008533333333333334\nConfidence: 0.5\nLift: 2.098489087856743\n=====================================\nRule: milk is bought when -&gt; pancakesis bought [&#39;pancakes&#39;, &#39;milk&#39;, &#39;mineral water&#39;]\nSupport: 0.007866666666666666\nConfidence: 0.47580645161290314\nLift: 1.9969492932830295\n=====================================\nRule: milk is bought when -&gt; shrimpis bought [&#39;shrimp&#39;, &#39;milk&#39;, &#39;mineral water&#39;]\nSupport: 0.007866666666666666\nConfidence: 0.4469696969696969\nLift: 1.8759220633870883\n=====================================\nRule: milk is bought when -&gt; soupis bought [&#39;soup&#39;, &#39;milk&#39;, &#39;mineral water&#39;]\nSupport: 0.008533333333333334\nConfidence: 0.5614035087719299\nLift: 2.3561982740847647\n=====================================\nRule: milk is bought when -&gt; spaghettiis bought [&#39;spaghetti&#39;, &#39;milk&#39;, &#39;mineral water&#39;]\nSupport: 0.015733333333333332\nConfidence: 0.3277777777777777\nLift: 1.8823379275140375\n=====================================\nRule: milk is bought when -&gt; tomatoesis bought [&#39;tomatoes&#39;, &#39;milk&#39;, &#39;mineral water&#39;]\nSupport: 0.006533333333333334\nConfidence: 0.4666666666666667\nLift: 1.9585898153329604\n=====================================\nRule: milk is bought when -&gt; turkeyis bought [&#39;turkey&#39;, &#39;milk&#39;, &#39;mineral water&#39;]\nSupport: 0.0061333333333333335\nConfidence: 0.5411764705882353\nLift: 2.271305836268475\n=====================================\nRule: milk is bought when -&gt; olive oilis bought [&#39;olive oil&#39;, &#39;milk&#39;, &#39;nan&#39;]\nSupport: 0.017066666666666667\nConfidence: 0.25963488843813387\nLift: 2.0033556206646135\n=====================================\nRule: milk is bought when -&gt; salmonis bought [&#39;salmon&#39;, &#39;milk&#39;, &#39;nan&#39;]\nSupport: 0.009733333333333333\nConfidence: 0.22955974842767296\nLift: 1.7712943551517977\n=====================================\nRule: milk is bought when -&gt; shrimpis bought [&#39;shrimp&#39;, &#39;milk&#39;, &#39;nan&#39;]\nSupport: 0.0176\nConfidence: 0.24672897196261684\nLift: 1.9037729318103151\n=====================================\nRule: milk is bought when -&gt; soupis bought [&#39;soup&#39;, &#39;milk&#39;, &#39;nan&#39;]\nSupport: 0.0152\nConfidence: 0.3007915567282322\nLift: 2.320922505619076\n=====================================\nRule: milk is bought when -&gt; spaghettiis bought [&#39;spaghetti&#39;, &#39;milk&#39;, &#39;nan&#39;]\nSupport: 0.03546666666666667\nConfidence: 0.27366255144032925\nLift: 1.5715690166940808\n=====================================\nRule: milk is bought when -&gt; tomatoesis bought [&#39;tomatoes&#39;, &#39;milk&#39;, &#39;nan&#39;]\nSupport: 0.014\nConfidence: 0.2046783625730994\nLift: 1.5793083531874954\n=====================================\nRule: milk is bought when -&gt; whole wheat pastais bought [&#39;whole wheat pasta&#39;, &#39;milk&#39;, &#39;nan&#39;]\nSupport: 0.009866666666666666\nConfidence: 0.334841628959276\nLift: 2.583654544438858\n=====================================\nRule: milk is bought when -&gt; whole wheat riceis bought [&#39;whole wheat rice&#39;, &#39;milk&#39;, &#39;nan&#39;]\nSupport: 0.011866666666666666\nConfidence: 0.20273348519362186\nLift: 1.5643015832841194\n=====================================\nRule: milk is bought when -&gt; olive oilis bought [&#39;olive oil&#39;, &#39;milk&#39;, &#39;spaghetti&#39;]\nSupport: 0.0072\nConfidence: 0.42187499999999994\nLift: 2.42271248085758\n=====================================\nRule: milk is bought when -&gt; tomatoesis bought [&#39;tomatoes&#39;, &#39;milk&#39;, &#39;spaghetti&#39;]\nSupport: 0.005866666666666667\nConfidence: 0.41904761904761906\nLift: 2.4064756070881645\n=====================================\nRule: mint is bought when -&gt; nanis bought [&#39;nan&#39;, &#39;mint&#39;, &#39;mineral water&#39;]\nSupport: 0.005866666666666667\nConfidence: 0.3358778625954199\nLift: 1.4096720590182705\n=====================================\nRule: oil is bought when -&gt; nanis bought [&#39;nan&#39;, &#39;oil&#39;, &#39;mineral water&#39;]\nSupport: 0.007333333333333333\nConfidence: 0.3179190751445087\nLift: 1.3342994200245188\n=====================================\nRule: olive oil is bought when -&gt; nanis bought [&#39;nan&#39;, &#39;olive oil&#39;, &#39;mineral water&#39;]\nSupport: 0.027466666666666667\nConfidence: 0.41784989858012167\nLift: 1.7537069050648644\n=====================================\nRule: pancakes is bought when -&gt; nanis bought [&#39;nan&#39;, &#39;pancakes&#39;, &#39;mineral water&#39;]\nSupport: 0.03373333333333333\nConfidence: 0.3548387096774194\nLift: 1.489250320414463\n=====================================\nRule: pepper is bought when -&gt; nanis bought [&#39;nan&#39;, &#39;pepper&#39;, &#39;mineral water&#39;]\nSupport: 0.008266666666666667\nConfidence: 0.31155778894472363\nLift: 1.3076012406745536\n=====================================\nRule: protein bar is bought when -&gt; nanis bought [&#39;nan&#39;, &#39;protein bar&#39;, &#39;mineral water&#39;]\nSupport: 0.007733333333333333\nConfidence: 0.4172661870503597\nLift: 1.7512570805135412\n=====================================\nRule: red wine is bought when -&gt; nanis bought [&#39;nan&#39;, &#39;red wine&#39;, &#39;mineral water&#39;]\nSupport: 0.010933333333333333\nConfidence: 0.3886255924170616\nLift: 1.6310531298981323\n=====================================\nRule: rice is bought when -&gt; nanis bought [&#39;nan&#39;, &#39;rice&#39;, &#39;mineral water&#39;]\nSupport: 0.007733333333333333\nConfidence: 0.41134751773049644\nLift: 1.72641655454881\n=====================================\nRule: salmon is bought when -&gt; nanis bought [&#39;nan&#39;, &#39;salmon&#39;, &#39;mineral water&#39;]\nSupport: 0.016933333333333335\nConfidence: 0.39937106918238996\nLift: 1.6761516613698517\n=====================================\nRule: shrimp is bought when -&gt; nanis bought [&#39;nan&#39;, &#39;shrimp&#39;, &#39;mineral water&#39;]\nSupport: 0.023466666666666667\nConfidence: 0.32897196261682243\nLift: 1.3806881475244368\n=====================================\nRule: soup is bought when -&gt; nanis bought [&#39;nan&#39;, &#39;soup&#39;, &#39;mineral water&#39;]\nSupport: 0.023066666666666666\nConfidence: 0.45646437994722955\nLift: 1.9157710406291113\n=====================================\nRule: spaghetti is bought when -&gt; nanis bought [&#39;nan&#39;, &#39;spaghetti&#39;, &#39;mineral water&#39;]\nSupport: 0.05973333333333333\nConfidence: 0.2506994963626189\nLift: 1.4396984860027884\n=====================================\nRule: tomato juice is bought when -&gt; nanis bought [&#39;nan&#39;, &#39;tomato juice&#39;, &#39;mineral water&#39;]\nSupport: 0.009466666666666667\nConfidence: 0.31277533039647576\nLift: 1.312711235575584\n=====================================\nRule: tomato sauce is bought when -&gt; nanis bought [&#39;nan&#39;, &#39;tomato sauce&#39;, &#39;mineral water&#39;]\nSupport: 0.005733333333333333\nConfidence: 0.4056603773584906\nLift: 1.7025477505252824\n=====================================\nRule: tomatoes is bought when -&gt; nanis bought [&#39;nan&#39;, &#39;tomatoes&#39;, &#39;mineral water&#39;]\nSupport: 0.0244\nConfidence: 0.35672514619883045\nLift: 1.4971676533246943\n=====================================\nRule: turkey is bought when -&gt; nanis bought [&#39;nan&#39;, &#39;turkey&#39;, &#39;mineral water&#39;]\nSupport: 0.0192\nConfidence: 0.30703624733475476\nLift: 1.288624429216934\n=====================================\nRule: vegetables mix is bought when -&gt; nanis bought [&#39;nan&#39;, &#39;vegetables mix&#39;, &#39;mineral water&#39;]\nSupport: 0.007733333333333333\nConfidence: 0.3020833333333333\nLift: 1.2678371572467824\n=====================================\nRule: whole wheat pasta is bought when -&gt; nanis bought [&#39;nan&#39;, &#39;whole wheat pasta&#39;, &#39;mineral water&#39;]\nSupport: 0.0096\nConfidence: 0.3257918552036199\nLift: 1.367341306114801\n=====================================\nRule: whole wheat rice is bought when -&gt; nanis bought [&#39;nan&#39;, &#39;whole wheat rice&#39;, &#39;mineral water&#39;]\nSupport: 0.020133333333333333\nConfidence: 0.3439635535307517\nLift: 1.4436075274094224\n=====================================\nRule: olive oil is bought when -&gt; spaghettiis bought [&#39;spaghetti&#39;, &#39;olive oil&#39;, &#39;mineral water&#39;]\nSupport: 0.010266666666666667\nConfidence: 0.3737864077669903\nLift: 2.1465528776817973\n=====================================\nRule: spaghetti is bought when -&gt; pancakesis bought [&#39;pancakes&#39;, &#39;spaghetti&#39;, &#39;mineral water&#39;]\nSupport: 0.011466666666666667\nConfidence: 0.3399209486166008\nLift: 1.9520728289621028\n=====================================\nRule: salmon is bought when -&gt; spaghettiis bought [&#39;spaghetti&#39;, &#39;salmon&#39;, &#39;mineral water&#39;]\nSupport: 0.0068\nConfidence: 0.40157480314960625\nLift: 2.306134015024538\n=====================================\nRule: shrimp is bought when -&gt; spaghettiis bought [&#39;spaghetti&#39;, &#39;shrimp&#39;, &#39;mineral water&#39;]\nSupport: 0.008533333333333334\nConfidence: 0.36363636363636365\nLift: 2.0882639565641097\n=====================================\nRule: spaghetti is bought when -&gt; soupis bought [&#39;soup&#39;, &#39;spaghetti&#39;, &#39;mineral water&#39;]\nSupport: 0.007466666666666667\nConfidence: 0.3236994219653179\nLift: 1.8589170480397277\n=====================================\nRule: tomatoes is bought when -&gt; spaghettiis bought [&#39;spaghetti&#39;, &#39;tomatoes&#39;, &#39;mineral water&#39;]\nSupport: 0.009333333333333334\nConfidence: 0.3825136612021858\nLift: 2.1966711018502245\n=====================================\nRule: spaghetti is bought when -&gt; turkeyis bought [&#39;turkey&#39;, &#39;spaghetti&#39;, &#39;mineral water&#39;]\nSupport: 0.0064\nConfidence: 0.33333333333333337\nLift: 1.9142419601837675\n=====================================\nRule: spaghetti is bought when -&gt; whole wheat riceis bought [&#39;whole wheat rice&#39;, &#39;spaghetti&#39;, &#39;mineral water&#39;]\nSupport: 0.006266666666666667\nConfidence: 0.3112582781456954\nLift: 1.7874709694431206\n=====================================\nRule: oil is bought when -&gt; spaghettiis bought [&#39;spaghetti&#39;, &#39;oil&#39;, &#39;nan&#39;]\nSupport: 0.005733333333333333\nConfidence: 0.2485549132947977\nLift: 1.4273827333162197\n=====================================\nRule: olive oil is bought when -&gt; spaghettiis bought [&#39;spaghetti&#39;, &#39;olive oil&#39;, &#39;nan&#39;]\nSupport: 0.022933333333333333\nConfidence: 0.3488843813387424\nLift: 2.0035473660341254\n=====================================\nRule: olive oil is bought when -&gt; whole wheat pastais bought [&#39;whole wheat pasta&#39;, &#39;olive oil&#39;, &#39;nan&#39;]\nSupport: 0.008\nConfidence: 0.2714932126696833\nLift: 4.130221288078346\n=====================================\nRule: spaghetti is bought when -&gt; pancakesis bought [&#39;pancakes&#39;, &#39;spaghetti&#39;, &#39;nan&#39;]\nSupport: 0.0252\nConfidence: 0.2650771388499299\nLift: 1.5222653456159834\n=====================================\nRule: parmesan cheese is bought when -&gt; spaghettiis bought [&#39;spaghetti&#39;, &#39;parmesan cheese&#39;, &#39;nan&#39;]\nSupport: 0.0068\nConfidence: 0.3422818791946308\nLift: 1.9656310060947406\n=====================================\nRule: pepper is bought when -&gt; spaghettiis bought [&#39;spaghetti&#39;, &#39;pepper&#39;, &#39;nan&#39;]\nSupport: 0.009866666666666666\nConfidence: 0.37185929648241206\nLift: 2.1354860058331475\n=====================================\nRule: spaghetti is bought when -&gt; red wineis bought [&#39;red wine&#39;, &#39;spaghetti&#39;, &#39;nan&#39;]\nSupport: 0.010266666666666667\nConfidence: 0.36492890995260663\nLift: 2.0956866957462097\n=====================================\nRule: salmon is bought when -&gt; spaghettiis bought [&#39;spaghetti&#39;, &#39;salmon&#39;, &#39;nan&#39;]\nSupport: 0.013466666666666667\nConfidence: 0.31761006289308175\nLift: 1.8239475280996271\n=====================================\nRule: shrimp is bought when -&gt; spaghettiis bought [&#39;spaghetti&#39;, &#39;shrimp&#39;, &#39;nan&#39;]\nSupport: 0.0212\nConfidence: 0.297196261682243\nLift: 1.706716663565714\n=====================================\nRule: spaghetti is bought when -&gt; soupis bought [&#39;soup&#39;, &#39;spaghetti&#39;, &#39;nan&#39;]\nSupport: 0.014266666666666667\nConfidence: 0.28232189973614774\nLift: 1.6212972802611854\n=====================================\nRule: tomato juice is bought when -&gt; spaghettiis bought [&#39;spaghetti&#39;, &#39;tomato juice&#39;, &#39;nan&#39;]\nSupport: 0.007466666666666667\nConfidence: 0.24669603524229075\nLift: 1.416707706215299\n=====================================\nRule: spaghetti is bought when -&gt; tomato sauceis bought [&#39;tomato sauce&#39;, &#39;spaghetti&#39;, &#39;nan&#39;]\nSupport: 0.006266666666666667\nConfidence: 0.44339622641509435\nLift: 2.546302984772747\n=====================================\nRule: tomatoes is bought when -&gt; spaghettiis bought [&#39;spaghetti&#39;, &#39;tomatoes&#39;, &#39;nan&#39;]\nSupport: 0.020933333333333335\nConfidence: 0.30604288499025345\nLift: 1.757520396192114\n=====================================\nRule: spaghetti is bought when -&gt; turkeyis bought [&#39;turkey&#39;, &#39;spaghetti&#39;, &#39;nan&#39;]\nSupport: 0.016533333333333334\nConfidence: 0.26439232409381663\nLift: 1.5183326421926682\n=====================================\nRule: vegetables mix is bought when -&gt; spaghettiis bought [&#39;spaghetti&#39;, &#39;vegetables mix&#39;, &#39;nan&#39;]\nSupport: 0.0056\nConfidence: 0.21875\nLift: 1.2562212863705973\n=====================================\nRule: spaghetti is bought when -&gt; whole wheat pastais bought [&#39;whole wheat pasta&#39;, &#39;spaghetti&#39;, &#39;nan&#39;]\nSupport: 0.0088\nConfidence: 0.29864253393665163\nLift: 1.7150222086714297\n=====================================\nRule: spaghetti is bought when -&gt; whole wheat riceis bought [&#39;whole wheat rice&#39;, &#39;spaghetti&#39;, &#39;nan&#39;]\nSupport: 0.014133333333333333\nConfidence: 0.24145785876993164\nLift: 1.3866262946205876\n=====================================\n"
    }
   ],
   "source": [
    "\n",
    "\n",
    "for item in association_results:\n",
    "\n",
    "    # first index of the inner list\n",
    "    # Contains base item and add item\n",
    "    pair = item[0] \n",
    "    items = [x for x in pair]\n",
    "    print(\"Rule: \" + items[1] + \" is bought when -> \" + items[0]+'is bought', items)\n",
    "    #second index of the inner list\n",
    "    print(\"Support: \" + str(item[1]))\n",
    "\n",
    "    #third index of the list located at 0th\n",
    "    #of the third index of the inner list\n",
    "\n",
    "    print(\"Confidence: \" + str(item[2][0][2]))\n",
    "    print(\"Lift: \" + str(item[2][0][3]))\n",
    "    print(\"=====================================\")\n",
    "\n"
   ]
  },
  {
   "cell_type": "code",
   "execution_count": null,
   "metadata": {},
   "outputs": [],
   "source": []
  }
 ]
}