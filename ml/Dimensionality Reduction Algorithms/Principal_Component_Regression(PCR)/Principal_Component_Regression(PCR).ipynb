{
 "cells": [
  {
   "cell_type": "markdown",
   "metadata": {},
   "source": [
    "# Principal Component Regression (PCR)\n",
    "\n",
    "This notebook implements **Principal Component Regression (PCR)** from scratch and outlines the advantages of PCR over **Multi-variate Linear Regression**."
   ]
  },
  {
   "cell_type": "markdown",
   "metadata": {},
   "source": [
    "## What is PCR ?\n",
    "\n",
    "Going by the definition, **Principal Component Regression (PCR)** is a regression algorithm used for datasets having **multi-collinearity**.\n",
    "\n",
    "It constitutes the following steps:\n",
    "\n",
    "1. Perform **Principal Component Analysis (PCA)** on the dataset to reduce the number of features and obtain the **Principal Components (PCs)**.\n",
    "2. Perform **Linear Regression** on the obtained **Principal Components (PCs)**."
   ]
  },
  {
   "cell_type": "markdown",
   "metadata": {},
   "source": [
    "## When to apply PCR ?\n",
    "\n",
    "PCR is normally performed on multi-variate datasets having multi-collinearity.\n",
    "\n",
    "PCR is preferred over **OLS ( Ordinary Least Square ) Linear Regression** on these datasets."
   ]
  },
  {
   "cell_type": "markdown",
   "metadata": {},
   "source": [
    "## What are the problems with multi-variate Linear Regression?\n",
    "\n",
    "Multi-variate Linear Regression is Linear Regression with a large number of features.\n",
    "\n",
    "### Problems:\n",
    "\n",
    "1. In multi-variate Linear Regression, it may appear that **we do fit the model well** but there is normally a **high variance problem** on the test set.\n",
    "\n",
    "2. The algorithm takes more time for training the features because of the larger number of input features."
   ]
  },
  {
   "cell_type": "markdown",
   "metadata": {},
   "source": [
    "## What are the advantages of PCR over OLS Linear Regression?\n",
    "\n",
    "We saw in the last part that multi-variate Linear Regression poses a problem of high variance and overfits the training set.\n",
    "\n",
    "PCR reduces the number of features on which regression is performed. It thus **adds a slight bias**. Hence, we now fit the model with a **slightly less training accuracy** but have **reduced the variance to a large extent**. \n",
    "\n",
    "The time required by the algorithm to train the features on the training set is also **reduced to a large extent**."
   ]
  },
  {
   "cell_type": "markdown",
   "metadata": {},
   "source": [
    "## Key idea behind PCR:\n",
    "\n",
    "The key idea behind **PCR** is to **apply PCA on the dataset before regression.**"
   ]
  },
  {
   "cell_type": "markdown",
   "metadata": {},
   "source": [
    "## PCA - Feature Selection or Feature Reduction\n",
    "\n",
    "**PCA ia not a feature selection technique.** A feature selection technique would involve selecting a few features out of all of them, however we are combining features to create new PCs, which are different from the original features."
   ]
  }
 ],
 "metadata": {
  "kernelspec": {
   "display_name": "Python 3",
   "language": "python",
   "name": "python3"
  },
  "language_info": {
   "codemirror_mode": {
    "name": "ipython",
    "version": 3
   },
   "file_extension": ".py",
   "mimetype": "text/x-python",
   "name": "python",
   "nbconvert_exporter": "python",
   "pygments_lexer": "ipython3",
   "version": "3.7.6"
  }
 },
 "nbformat": 4,
 "nbformat_minor": 4
}
